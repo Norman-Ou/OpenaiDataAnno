{
 "cells": [
  {
   "cell_type": "code",
   "execution_count": 1,
   "metadata": {},
   "outputs": [],
   "source": [
    "from dotenv import load_dotenv\n",
    "from openai import OpenAI\n",
    "import base64\n",
    "import os\n",
    "\n",
    "load_dotenv()\n",
    "\n",
    "openai_client = OpenAI()\n",
    "\n",
    "def encode_image(image_path):\n",
    "    with open(image_path, \"rb\") as image_file:\n",
    "        return base64.b64encode(image_file.read()).decode(\"utf-8\")\n",
    "\n",
    "def call_4o(prompt, image_path=None):\n",
    "    content = [{\"type\": \"text\", \"text\": prompt}]\n",
    "    if image_path:\n",
    "        base64_image = encode_image(image_path)\n",
    "        content.append({\n",
    "            \"type\": \"image_url\",\n",
    "            \"image_url\": {\n",
    "                \"url\": f\"data:image/jpeg;base64,{base64_image}\",\n",
    "            },\n",
    "        })\n",
    "    completion = openai_client.chat.completions.create(\n",
    "        model=\"gpt-4o-mini\",\n",
    "        messages=[{\n",
    "            \"role\": \"user\",\n",
    "            \"content\": content\n",
    "        }]\n",
    "    )\n",
    "    return completion.choices[0].message.content\n",
    "\n",
    "def call_4o_text_only(prompt):\n",
    "    completion = openai_client.chat.completions.create(\n",
    "        model=\"gpt-4o-mini\",\n",
    "        messages=[{\n",
    "            \"role\": \"user\",\n",
    "            \"content\": prompt\n",
    "        }]\n",
    "    )\n",
    "    return completion.choices[0].message.content\n"
   ]
  },
  {
   "cell_type": "code",
   "execution_count": 2,
   "metadata": {},
   "outputs": [],
   "source": [
    "import json\n",
    "\n",
    "eval_json_path = \"valid_contents.json\"\n",
    "train_json_path = \"train_contents.json\"\n",
    "\n",
    "with open(eval_json_path, \"r\") as f:\n",
    "    eval_contents = json.load(f)\n",
    "\n",
    "with open(train_json_path, \"r\") as f:\n",
    "    train_contents = json.load(f)\n",
    "\n",
    "valid_dataset = []\n",
    "train_dataset = []\n",
    "\n",
    "for custom_id, content in eval_contents.items():\n",
    "    valid_dataset.append({\n",
    "        \"custom_id\": custom_id,\n",
    "        \"image_path\": f\"data/crowdai/val/images/{custom_id}.jpg\",\n",
    "        \"caption\": content\n",
    "    })\n",
    "\n",
    "for custom_id, content in train_contents.items():\n",
    "    train_dataset.append({\n",
    "        \"custom_id\": custom_id,\n",
    "        \"image_path\": f\"data/crowdai/train/images/{custom_id}.jpg\",\n",
    "        \"caption\": content\n",
    "    })"
   ]
  },
  {
   "cell_type": "code",
   "execution_count": 3,
   "metadata": {},
   "outputs": [
    {
     "name": "stderr",
     "output_type": "stream",
     "text": [
      "100%|██████████| 8366/8366 [00:00<00:00, 225657.70it/s]\n"
     ]
    }
   ],
   "source": [
    "import re\n",
    "from tqdm import tqdm\n",
    "from typing import List, Dict, Any\n",
    "\n",
    "def parse_caption(dataset: List[Dict[str, Any]]):\n",
    "    dirty_dataset = []\n",
    "    good_dataset = []\n",
    "    for item in tqdm(dataset):\n",
    "        caption = item[\"caption\"]\n",
    "        pattern = r\"(\\d+)[:\\s]+([^\\n]+)\"\n",
    "        matches = re.findall(pattern, caption)\n",
    "        descriptions = {int(idx): desc.strip() for idx, desc in matches}\n",
    "        if not descriptions:\n",
    "            dirty_dataset.append(item)\n",
    "            continue\n",
    "        item[\"descriptions\"] = descriptions\n",
    "        good_dataset.append(item)\n",
    "    \n",
    "    return good_dataset, dirty_dataset\n",
    "\n",
    "good_dataset, dirty_dataset = parse_caption(train_dataset)"
   ]
  },
  {
   "cell_type": "code",
   "execution_count": null,
   "metadata": {},
   "outputs": [],
   "source": [
    "dirty_dataset[0], len(dirty_dataset)"
   ]
  },
  {
   "cell_type": "code",
   "execution_count": null,
   "metadata": {},
   "outputs": [],
   "source": [
    "import jinja2\n",
    "from tqdm import tqdm\n",
    "import re\n",
    "\n",
    "SYSTEMP_PROMPT = \"\"\"You are a description collator. Please process the input according to the following rules:\n",
    "\n",
    "# Task\n",
    "Extract instance indexes and their corresponding descriptions from the input text.  \n",
    "The instance index is an integer, and it can appear anywhere near the description, possibly surrounded by brackets, parentheses, or separated by spaces, dashes, colons, etc.  \n",
    "You must accurately associate each instance index with its corresponding description, regardless of formatting inconsistencies.\n",
    "\n",
    "# Input\n",
    "{{input_prompt}}\n",
    "\n",
    "# Processing Rules\n",
    "1. For each instance, extract:\n",
    "   - The instance index (an integer).\n",
    "   - The associated description text.\n",
    "2. Rephrase each description into a **noun phrase** that starts with \"**a building**\" or \"**the building**\".\n",
    "   - If the original description already starts with \"a building\" or \"the building\", keep it.\n",
    "   - If it does not, rephrase it naturally so that it does.\n",
    "3. Focus strictly on spatial location, structure, or appearance.  \n",
    "   Do not add new information, actions, or interpretations.\n",
    "4. Ignore all irrelevant symbols, formatting inconsistencies, and line breaks in the input.\n",
    "\n",
    "# Output Format\n",
    "Return the results in **strict JSON format**, where:\n",
    "- Each **key** is the instance index (as a string).\n",
    "- Each **value** is the cleaned and corrected noun phrase.\n",
    "\n",
    "The JSON structure must look like:\n",
    "```json\n",
    "{\n",
    "    \"0\": \"[Noun phrase for instance 0]\",\n",
    "    \"1\": \"[Noun phrase for instance 1]\",\n",
    "    \"2\": \"[Noun phrase for instance 2]\",\n",
    "    ...\n",
    "}\n",
    "\"\"\"\n",
    "\n",
    "template = jinja2.Template(SYSTEMP_PROMPT)\n",
    "\n",
    "new_train_dataset = []\n",
    "\n",
    "for item in tqdm(train_dataset):\n",
    "    # image = Image.open(item[\"image_path\"])\n",
    "    caption = item[\"caption\"]\n",
    "    prompt = template.render(input_prompt=caption)\n",
    "\n",
    "    response = call_4o_text_only(prompt)\n",
    "    # Extract the JSON string from the response text\n",
    "    json_match = re.search(r'\\{.*\\}', response, re.DOTALL)\n",
    "    if json_match:\n",
    "        final_prompt = json.loads(json_match.group())\n",
    "    else:\n",
    "        final_prompt = {}\n",
    "    new_train_dataset.append({\n",
    "        **item,\n",
    "        \"descriptions\": final_prompt\n",
    "    })\n",
    "\n",
    "with open(\"new_train_dataset.json\", \"w\") as f:\n",
    "    json.dump(new_train_dataset, f)\n",
    "\n",
    "\n",
    "new_valid_dataset = []\n",
    "\n",
    "for item in tqdm(valid_dataset):\n",
    "    # image = Image.open(item[\"image_path\"])\n",
    "    caption = item[\"caption\"]\n",
    "    prompt = template.render(input_prompt=caption)\n",
    "\n",
    "    response = call_4o_text_only(prompt)\n",
    "    # Extract the JSON string from the response text\n",
    "    json_match = re.search(r'\\{.*\\}', response, re.DOTALL)\n",
    "    if json_match:\n",
    "        final_prompt = json.loads(json_match.group())\n",
    "    else:\n",
    "        final_prompt = {}\n",
    "    new_valid_dataset.append({\n",
    "        **item,\n",
    "        \"descriptions\": final_prompt\n",
    "    })\n",
    "\n",
    "with open(\"new_valid_dataset.json\", \"w\") as f:\n",
    "    json.dump(new_valid_dataset, f)"
   ]
  },
  {
   "cell_type": "markdown",
   "metadata": {},
   "source": [
    "# Batch"
   ]
  },
  {
   "cell_type": "code",
   "execution_count": 6,
   "metadata": {},
   "outputs": [
    {
     "name": "stderr",
     "output_type": "stream",
     "text": [
      "100%|██████████| 8366/8366 [00:00<00:00, 26943.52it/s]\n",
      "100%|██████████| 1820/1820 [00:00<00:00, 29171.41it/s]\n"
     ]
    }
   ],
   "source": [
    "BATCH_REQUEST = {\n",
    "    \"custom_id\": \"\", \n",
    "    \"method\": \"POST\", \n",
    "    \"url\": \"/v1/chat/completions\", \n",
    "    \"body\": {\n",
    "        \"model\": \"gpt-4o-mini\",\n",
    "        \"messages\":[{\n",
    "            \"role\": \"user\",\n",
    "            \"content\": \"\"\n",
    "        }],\n",
    "    \"max_tokens\": 1000}\n",
    "}\n",
    "\n",
    "SYSTEMP_PROMPT = \"\"\"You are a description collator. Please process the input according to the following rules:\n",
    "\n",
    "# Task\n",
    "Extract instance indexes and their corresponding descriptions from the input text.  \n",
    "The instance index is an integer, and it can appear anywhere near the description, possibly surrounded by brackets, parentheses, or separated by spaces, dashes, colons, etc.  \n",
    "You must accurately associate each instance index with its corresponding description, regardless of formatting inconsistencies.\n",
    "\n",
    "# Input\n",
    "{{input_prompt}}\n",
    "\n",
    "# Processing Rules\n",
    "1. For each instance, extract:\n",
    "   - The instance index (an integer).\n",
    "   - The associated description text.\n",
    "2. Rephrase each description into a **noun phrase** that starts with \"**a building**\" or \"**the building**\".\n",
    "   - If the original description already starts with \"a building\" or \"the building\", keep it.\n",
    "   - If it does not, rephrase it naturally so that it does.\n",
    "3. Focus strictly on spatial location, structure, or appearance.  \n",
    "   Do not add new information, actions, or interpretations.\n",
    "4. Ignore all irrelevant symbols, formatting inconsistencies, and line breaks in the input.\n",
    "\n",
    "# Output Format\n",
    "Return the results in **strict JSON format**, where:\n",
    "- Each **key** is the instance index (as a string).\n",
    "- Each **value** is the cleaned and corrected noun phrase.\n",
    "\n",
    "The JSON structure must look like:\n",
    "```json\n",
    "{\n",
    "    \"0\": \"[Noun phrase for instance 0]\",\n",
    "    \"1\": \"[Noun phrase for instance 1]\",\n",
    "    \"2\": \"[Noun phrase for instance 2]\",\n",
    "    ...\n",
    "}\n",
    "\"\"\"\n",
    "\n",
    "template = jinja2.Template(SYSTEMP_PROMPT)\n",
    "\n",
    "for item in tqdm(train_dataset):\n",
    "    custom_id = item[\"custom_id\"]\n",
    "    caption = item[\"caption\"]\n",
    "    prompt = template.render(input_prompt=caption)\n",
    "\n",
    "    BATCH_REQUEST[\"custom_id\"] = custom_id\n",
    "    BATCH_REQUEST[\"body\"][\"messages\"][0][\"content\"] = prompt\n",
    "\n",
    "    with open(\"train_clean_batch_request.jsonl\", \"a\") as f:\n",
    "        f.write(json.dumps(BATCH_REQUEST) + \"\\n\")\n",
    "\n",
    "\n",
    "for item in tqdm(valid_dataset):\n",
    "    custom_id = item[\"custom_id\"]\n",
    "    caption = item[\"caption\"]\n",
    "    prompt = template.render(input_prompt=caption)\n",
    "\n",
    "    BATCH_REQUEST[\"custom_id\"] = custom_id\n",
    "    BATCH_REQUEST[\"body\"][\"messages\"][0][\"content\"] = prompt\n",
    "\n",
    "    with open(\"valid_clean_batch_request.jsonl\", \"a\") as f:\n",
    "        f.write(json.dumps(BATCH_REQUEST) + \"\\n\")"
   ]
  },
  {
   "cell_type": "code",
   "execution_count": 7,
   "metadata": {},
   "outputs": [
    {
     "name": "stdout",
     "output_type": "stream",
     "text": [
      "file-1YRsLzckdtPMSTv6NCQA1d\n",
      "train batch job: batch_6810a854237481909beda6fab3554932\n"
     ]
    }
   ],
   "source": [
    "train_batch_request_file = openai_client.files.create(\n",
    "    file=open(\"train_clean_batch_request.jsonl\", \"rb\"),\n",
    "    purpose=\"batch\"\n",
    ")\n",
    "print(train_batch_request_file.id)\n",
    "\n",
    "train_batch_job = openai_client.batches.create(\n",
    "    input_file_id=train_batch_request_file.id,\n",
    "    endpoint=\"/v1/chat/completions\",\n",
    "    completion_window=\"24h\",\n",
    "    metadata={\n",
    "        \"description\": \"nightly eval job\"\n",
    "    }\n",
    ")\n",
    "print(f\"train batch job: {train_batch_job.id}\")"
   ]
  },
  {
   "cell_type": "code",
   "execution_count": 8,
   "metadata": {},
   "outputs": [
    {
     "name": "stdout",
     "output_type": "stream",
     "text": [
      "file-QJX3gtEbngUDK34d6dAq1K\n",
      "valid batch job: batch_6810a859f2ac81909497d9acaddaea49\n"
     ]
    }
   ],
   "source": [
    "valid_batch_request_file = openai_client.files.create(\n",
    "    file=open(\"valid_clean_batch_request.jsonl\", \"rb\"),\n",
    "    purpose=\"batch\"\n",
    ")\n",
    "print(valid_batch_request_file.id)\n",
    "\n",
    "valid_batch_job = openai_client.batches.create(\n",
    "    input_file_id=valid_batch_request_file.id,\n",
    "    endpoint=\"/v1/chat/completions\",\n",
    "    completion_window=\"24h\",\n",
    "    metadata={\n",
    "        \"description\": \"nightly eval job\"\n",
    "    }\n",
    ")\n",
    "print(f\"valid batch job: {valid_batch_job.id}\")"
   ]
  },
  {
   "cell_type": "markdown",
   "metadata": {},
   "source": [
    "# Review Batch"
   ]
  },
  {
   "cell_type": "code",
   "execution_count": 10,
   "metadata": {},
   "outputs": [
    {
     "name": "stdout",
     "output_type": "stream",
     "text": [
      "in_progress\n",
      "in_progress\n"
     ]
    }
   ],
   "source": [
    "train_clean_batch_job = openai_client.batches.retrieve(\"batch_6810a854237481909beda6fab3554932\")\n",
    "valid_clean_batch_job = openai_client.batches.retrieve(\"batch_6810a859f2ac81909497d9acaddaea49\")\n",
    "\n",
    "print(train_clean_batch_job.status)\n",
    "print(valid_clean_batch_job.status)"
   ]
  },
  {
   "cell_type": "markdown",
   "metadata": {},
   "source": [
    "# Download cleaned"
   ]
  },
  {
   "cell_type": "code",
   "execution_count": null,
   "metadata": {},
   "outputs": [],
   "source": [
    "train_clean_output = openai_client.files.content(train_clean_batch_job.output_file_id)\n",
    "valid_clean_output = openai_client.files.content(valid_clean_batch_job.output_file_id)\n",
    "\n",
    "import pdb; pdb.set_trace()\n",
    "\n",
    "train_clean_output_text = train_clean_output.text\n",
    "valid_clean_output_text = valid_clean_output.text\n",
    "\n",
    "output_dir = \"output_jsonl\"\n",
    "os.makedirs(output_dir, exist_ok=True)\n",
    "\n",
    "with open(f\"{output_dir}/train_clean_output.jsonl\", \"w\") as f: f.write(train_clean_output_text)\n",
    "\n",
    "with open(f\"{output_dir}/valid_clean_output.jsonl\", \"w\") as f: f.write(valid_clean_output_text) "
   ]
  }
 ],
 "metadata": {
  "kernelspec": {
   "display_name": "openai",
   "language": "python",
   "name": "python3"
  },
  "language_info": {
   "codemirror_mode": {
    "name": "ipython",
    "version": 3
   },
   "file_extension": ".py",
   "mimetype": "text/x-python",
   "name": "python",
   "nbconvert_exporter": "python",
   "pygments_lexer": "ipython3",
   "version": "3.10.16"
  }
 },
 "nbformat": 4,
 "nbformat_minor": 2
}
